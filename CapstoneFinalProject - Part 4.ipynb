{
 "cells": [
  {
   "cell_type": "markdown",
   "id": "specified-dependence",
   "metadata": {},
   "source": [
    "# Searching for optimal locations for Cloud Kitchens in Mumbai"
   ]
  },
  {
   "cell_type": "markdown",
   "id": "outside-forth",
   "metadata": {},
   "source": [
    "Project is divided into 3 stages,\n",
    "- A. Generating Datasets\n",
    "- B. Search Space Creation\n",
    "- C. Optimal Location and Location Set Identification\n",
    "- D. Cuisine recommendations for best locations\n",
    "\n",
    "###### Approach:\n",
    "Our analysis is based on computing the distance betweent to location coordinates, and optimising the search using this are the key parameter.\n",
    "\n",
    "Distance is defined as the sum of the x(or W-E) and y (or N-S) intercept.\n",
    "\n",
    "The analysis progresses with first rating each venue location as follows,\n",
    "    rating = (minimum service time for a given set of city centres)/(service time of a location for given set of city centres)\n",
    "\n",
    "This data will be used to train a model that can generate similar ratings for any point using the following three attributes,\n",
    "- Number of city centres within serviceable distance\n",
    "- Average distance between location and the city centres\n",
    "- Average potential serviceable population\n",
    "\n",
    "Then we generate a search space of points using the city centre location coordinates, and find points with the best ratings.\n",
    "\n",
    "It is assumed that these points represent locations that have the maximum potential serviceable population for given set of city centres possible.\n",
    "\n",
    "After that top locations are sorted and searched for a combination of best locations that serve the maximum proportion of population of the city centres.\n",
    "\n",
    "Once we have obtained the list of best locations, we simply check the venue categories available at all city centres near our best locations.\n",
    "\n",
    "We use the Foursquare location data to compute the average venue category at each city centre, and then use the population of the city centres to compute the weighted average for a best location.\n",
    "\n",
    "###### Key comments\n",
    "- We have two datasets for city centers, but one lacks population data, hence it is automatically dropped from further analysis\n",
    "- Still we have utilised that data to generate venue locations from the Foursquare API as it provides more results\n",
    "- Venue category or cuisine reccomendations are based Foursquare location data\n",
    "- Functions for all computations will be available in related notebooks\n",
    "\n"
   ]
  },
  {
   "cell_type": "markdown",
   "id": "tropical-settle",
   "metadata": {},
   "source": [
    "### D. Cuisine Recommender\n",
    "\n",
    "The recommendation engine considers the presence of a type of venue category/cuisine near the city centre as being analogous to the population showing preference for it."
   ]
  },
  {
   "cell_type": "markdown",
   "id": "dependent-federation",
   "metadata": {},
   "source": [
    "### D.1. Importing libraries"
   ]
  },
  {
   "cell_type": "code",
   "execution_count": 1,
   "id": "chronic-orbit",
   "metadata": {},
   "outputs": [],
   "source": [
    "import numpy as np\n",
    "import pandas as pd"
   ]
  },
  {
   "cell_type": "markdown",
   "id": "grand-development",
   "metadata": {},
   "source": [
    "### D.2. Downloading set of best locations\n",
    "\n",
    "This set of locations was generated in Part 3."
   ]
  },
  {
   "cell_type": "code",
   "execution_count": 2,
   "id": "headed-empty",
   "metadata": {},
   "outputs": [],
   "source": [
    "best_location = pd.read_csv('best_locations_solutions.csv').to_numpy()\n",
    "best_locations_cords_set = pd.read_csv('best_locations_cords_set.csv').to_numpy()"
   ]
  },
  {
   "cell_type": "code",
   "execution_count": 3,
   "id": "wooden-pollution",
   "metadata": {},
   "outputs": [],
   "source": [
    "city_centers = pd.read_csv('m_ward_data.csv').to_numpy()\n",
    "venue_list = pd.read_csv('m_venue_data.csv').to_numpy()"
   ]
  },
  {
   "cell_type": "code",
   "execution_count": 4,
   "id": "average-speaker",
   "metadata": {},
   "outputs": [
    {
     "data": {
      "text/plain": [
       "array([0, 'Merwans Cake shop', 19.119300215885477, 72.84541776016009,\n",
       "       'Bakery'], dtype=object)"
      ]
     },
     "execution_count": 4,
     "metadata": {},
     "output_type": "execute_result"
    }
   ],
   "source": [
    "venue_list[0]"
   ]
  },
  {
   "cell_type": "code",
   "execution_count": 5,
   "id": "advanced-newcastle",
   "metadata": {},
   "outputs": [
    {
     "data": {
      "text/plain": [
       "array([0, '[19.1373666, 72.9442834]'], dtype=object)"
      ]
     },
     "execution_count": 5,
     "metadata": {},
     "output_type": "execute_result"
    }
   ],
   "source": [
    "best_locations_cords_set[0]"
   ]
  },
  {
   "cell_type": "markdown",
   "id": "separate-diagnosis",
   "metadata": {},
   "source": [
    "### D.3. Function definitions"
   ]
  },
  {
   "cell_type": "code",
   "execution_count": 6,
   "id": "under-fashion",
   "metadata": {},
   "outputs": [],
   "source": [
    "# function to generate list of cuisines/venue types\n",
    "\n",
    "def cuisine_list_gen(venue_list):\n",
    "    \n",
    "    cuisine_list = []\n",
    "    \n",
    "    for venue in venue_list:\n",
    "        \n",
    "        item = venue[4]\n",
    "            \n",
    "        if (item in cuisine_list) != True:\n",
    "            cuisine_list.append(item)\n",
    "    \n",
    "    return cuisine_list"
   ]
  },
  {
   "cell_type": "code",
   "execution_count": 7,
   "id": "working-receptor",
   "metadata": {},
   "outputs": [],
   "source": [
    "# function to compute distance between two points\n",
    "\n",
    "# assuming most streets are parallel to either north-south axis or east-west axis\n",
    "# thus distance is computed as sum of absolute distances\n",
    "\n",
    "# scale used is 1 degree difference is equal to 111 KM in either axis\n",
    "\n",
    "def distance(cord1, cord2):\n",
    "    \n",
    "    x = (cord1[0]-cord2[0])*111\n",
    "    \n",
    "    y = (cord1[1]-cord2[1])*111\n",
    "    \n",
    "    if x*y > 0:\n",
    "        if x > 0:\n",
    "            return x + y\n",
    "        else:\n",
    "            return -1*(x + y)\n",
    "    else:\n",
    "        if x > 0:\n",
    "            return x + (-1 * y)\n",
    "        else:\n",
    "            return (-1*x) + y"
   ]
  },
  {
   "cell_type": "code",
   "execution_count": 8,
   "id": "continuing-championship",
   "metadata": {},
   "outputs": [],
   "source": [
    "# function to construct the cuisine recommender's dataset\n",
    "\n",
    "def cuisine_rec_data_gen(best_locations_cords_set, city_centers, venue_list, distance_limit = 15, initial_distance_limit = 2.5):\n",
    "    \n",
    "    best_location_details = []\n",
    "    \n",
    "    # adding venue coordinates\n",
    "    for i in range(len(best_locations_cords_set)):\n",
    "        \n",
    "        cords = best_locations_cords_set[i][1].replace(\"[\",\"\").replace(\"]\",\"\").split(',')\n",
    "        \n",
    "        best_location_details.append([[float(cords[0]), float(cords[1])]])\n",
    "    \n",
    "    # adding venue location details to each location\n",
    "    for i in range(len(best_location_details)):\n",
    "        \n",
    "        city_center_loc = []\n",
    "        \n",
    "        map_point = best_location_details[i][0]\n",
    "        \n",
    "        for city_centre in city_centers: \n",
    "\n",
    "            city_centre_cords = [float(city_centre[8]),float(city_centre[9])]\n",
    "\n",
    "            city_centre_distance = distance(map_point, city_centre_cords)\n",
    "\n",
    "            if city_centre_distance <= (distance_limit-initial_distance_limit) and city_centre_distance > 0:\n",
    "                \n",
    "                city_center_loc.append([city_centre_cords,int(city_centre[4].replace(\",\",\"\"))])\n",
    "                \n",
    "        best_location_details[i].append(city_center_loc)\n",
    "    \n",
    "    # creating cuisine list for each location weighted by each population centers\n",
    "    \n",
    "    cc_cuisine_map = cc_cuisine_map_gen(city_centers, venue_list, distance_limit, initial_distance_limit)\n",
    "    \n",
    "    cuisine_list = cuisine_list_gen(venue_list)\n",
    "    \n",
    "    for i in range(len(best_location_details)):\n",
    "        \n",
    "        tot_pop = 0\n",
    "        \n",
    "        cuisine_loc_dict = {}\n",
    "        \n",
    "        # creating cuisine listing for each location\n",
    "        for cuisine in cuisine_list:\n",
    "            \n",
    "            cuisine_loc_dict[cuisine] = 0\n",
    "        \n",
    "        # computing total population of city centers within range\n",
    "        for cc in best_location_details[i][1]:\n",
    "            \n",
    "            tot_pop += cc[1]\n",
    "        \n",
    "        # computing total cuisine served at city center within range\n",
    "        for cc in best_location_details[i][1]:\n",
    "            \n",
    "            for j in range(len(cc_cuisine_map)):\n",
    "                \n",
    "                if cc[0] == cc_cuisine_map[j][0]:\n",
    "                    \n",
    "                    for key in cc_cuisine_map[j][1].keys():\n",
    "                        \n",
    "                        cuisine_loc_dict[key] += cc_cuisine_map[j][1][key]*cc[1]/tot_pop\n",
    "            \n",
    "        best_location_details[i].append(cuisine_loc_dict)\n",
    "        \n",
    "    # returning the top 5 ,bottom 5, and 5 absent cuisines for each locations\n",
    "    \n",
    "    best_location_cuisines = []\n",
    "    \n",
    "    for i in range(len(best_location_details)):\n",
    "        \n",
    "        top5 = []\n",
    "        \n",
    "        bot5 = []\n",
    "        \n",
    "        absent = []\n",
    "        \n",
    "        for key in best_location_details[i][2]:\n",
    "            \n",
    "            if best_location_details[i][2][key] == 0:\n",
    "                \n",
    "                absent.append(key)\n",
    "                \n",
    "        for count in range(5):\n",
    "            \n",
    "            top_val = 0\n",
    "            top_key = ''\n",
    "            \n",
    "            bot_val = best_location_details[i][2]['Bakery']\n",
    "            bot_key = 'Bakery'\n",
    "            \n",
    "            for key in best_location_details[i][2]:\n",
    "                \n",
    "                if best_location_details[i][2][key] > top_val and (key in top5) != True:\n",
    "                    top_val = best_location_details[i][2][key]\n",
    "                    top_key = key\n",
    "                \n",
    "                if best_location_details[i][2][key] < bot_val and best_location_details[i][2][key] > 0 and (key in bot5) != True:\n",
    "                    bot_val = best_location_details[i][2][key]\n",
    "                    bot_key = key\n",
    "            \n",
    "            top5.append(top_key)\n",
    "            bot5.append(bot_key)            \n",
    "\n",
    "        # adding info\n",
    "        best_location_cuisines.append([best_location_details[i][0],{'Top 5':top5,'Bottom 5':bot5,'Absent':absent}])\n",
    "                    \n",
    "        \n",
    "    return best_location_cuisines"
   ]
  },
  {
   "cell_type": "code",
   "execution_count": 9,
   "id": "behavioral-reward",
   "metadata": {},
   "outputs": [],
   "source": [
    "# function to create city centre wise cuisine map\n",
    "\n",
    "def cc_cuisine_map_gen(city_centers, venue_list, distance_limit = 15, initial_distance_limit = 2.5):\n",
    "    \n",
    "    cuisine_list = cuisine_list_gen(venue_list)\n",
    "    \n",
    "    cc_cuisine_map = []\n",
    "    \n",
    "    for city_centre in city_centers:\n",
    "        \n",
    "        city_centre_cords = [float(city_centre[8]),float(city_centre[9])]\n",
    "        \n",
    "        cc_cuisine_dict = {}\n",
    "        \n",
    "        for cuisine in cuisine_list:\n",
    "            \n",
    "            cc_cuisine_dict[cuisine] = 0\n",
    "\n",
    "        for venue in venue_list:\n",
    "        \n",
    "            venue_cords = [venue[2],venue[3]]\n",
    "\n",
    "            city_centre_distance = distance(venue_cords, city_centre_cords)\n",
    "\n",
    "            if city_centre_distance <= (distance_limit-initial_distance_limit) and city_centre_distance > 0:\n",
    "\n",
    "                cc_cuisine_dict[venue[4]] += 1 \n",
    "        \n",
    "        cc_cuisine_map.append([city_centre_cords,cc_cuisine_dict])\n",
    "            \n",
    "            \n",
    "    return cc_cuisine_map"
   ]
  },
  {
   "cell_type": "markdown",
   "id": "favorite-casino",
   "metadata": {},
   "source": [
    "### D.4. Generating cuisine recommendations"
   ]
  },
  {
   "cell_type": "markdown",
   "id": "blind-berlin",
   "metadata": {},
   "source": [
    "List of unique venue category/cuisine"
   ]
  },
  {
   "cell_type": "code",
   "execution_count": 10,
   "id": "departmental-parcel",
   "metadata": {},
   "outputs": [
    {
     "name": "stdout",
     "output_type": "stream",
     "text": [
      "Count of unique venue category/cuisinecuisine_list: 70\n"
     ]
    }
   ],
   "source": [
    "cuisine_list = cuisine_list_gen(venue_list)\n",
    "print(\"Count of unique venue category/cuisinecuisine_list: {}\".format(len(cuisine_list)))"
   ]
  },
  {
   "cell_type": "code",
   "execution_count": 11,
   "id": "major-galaxy",
   "metadata": {},
   "outputs": [],
   "source": [
    "# generating list of Top 5, Bottom 5, absent cuisines\n",
    "\n",
    "best_location_cuisines = cuisine_rec_data_gen(best_locations_cords_set, \n",
    "                                              city_centers, venue_list, \n",
    "                                              distance_limit = 15, \n",
    "                                              initial_distance_limit = 2.5)"
   ]
  },
  {
   "cell_type": "code",
   "execution_count": 12,
   "id": "golden-friendship",
   "metadata": {},
   "outputs": [
    {
     "data": {
      "text/plain": [
       "4"
      ]
     },
     "execution_count": 12,
     "metadata": {},
     "output_type": "execute_result"
    }
   ],
   "source": [
    "len(best_location_cuisines)"
   ]
  },
  {
   "cell_type": "code",
   "execution_count": 13,
   "id": "taken-vocabulary",
   "metadata": {},
   "outputs": [
    {
     "name": "stdout",
     "output_type": "stream",
     "text": [
      "['Indian Restaurant', 'Café', 'Fast Food Restaurant', 'Chinese Restaurant', 'Restaurant']\n",
      "['Indian Restaurant', 'Café', 'Fast Food Restaurant', 'Chinese Restaurant', 'Restaurant']\n",
      "['Indian Restaurant', 'Café', 'Fast Food Restaurant', 'Chinese Restaurant', 'Restaurant']\n",
      "['Indian Restaurant', 'Café', 'Chinese Restaurant', 'Fast Food Restaurant', 'Bakery']\n"
     ]
    }
   ],
   "source": [
    "# printing top 5 cuisines for each location\n",
    "\n",
    "for i in range(len(best_location_cuisines)):\n",
    "    \n",
    "    print(best_location_cuisines[i][1]['Top 5'])"
   ]
  },
  {
   "cell_type": "code",
   "execution_count": 14,
   "id": "liberal-australian",
   "metadata": {},
   "outputs": [
    {
     "name": "stdout",
     "output_type": "stream",
     "text": [
      "['German Restaurant', 'Modern European Restaurant', 'Fish & Chips Shop', 'Brazilian Restaurant', 'Multicuisine Indian Restaurant']\n",
      "['Dhaba', 'German Restaurant', 'Multicuisine Indian Restaurant', 'Gluten-free Restaurant', 'English Restaurant']\n",
      "['English Restaurant', 'Chaat Place', 'Burrito Place', 'Dumpling Restaurant', 'Parsi Restaurant']\n",
      "['North Indian Restaurant', 'Creperie', 'Afghan Restaurant', 'Comfort Food Restaurant', 'Mughlai Restaurant']\n"
     ]
    }
   ],
   "source": [
    "# printing bottom 5 cuisines for each location\n",
    "\n",
    "for i in range(len(best_location_cuisines)):\n",
    "    \n",
    "    print(best_location_cuisines[i][1]['Bottom 5'])"
   ]
  },
  {
   "cell_type": "code",
   "execution_count": 15,
   "id": "continental-sarah",
   "metadata": {},
   "outputs": [
    {
     "name": "stdout",
     "output_type": "stream",
     "text": [
      "['Dhaba', 'English Restaurant', 'Cafeteria', 'Molecular Gastronomy Restaurant', 'Parsi Restaurant', 'Steakhouse', 'Chaat Place', 'Portuguese Restaurant']\n",
      "['Cafeteria', 'Molecular Gastronomy Restaurant', 'Parsi Restaurant', 'Steakhouse', 'Chaat Place', 'Portuguese Restaurant']\n",
      "['Dhaba']\n",
      "['Dhaba', 'English Restaurant', 'Burrito Place', 'Dumpling Restaurant']\n"
     ]
    }
   ],
   "source": [
    "# printing absent cuisines for each location\n",
    "\n",
    "for i in range(len(best_location_cuisines)):\n",
    "    \n",
    "    print(best_location_cuisines[i][1]['Absent'])"
   ]
  }
 ],
 "metadata": {
  "kernelspec": {
   "display_name": "Python 3",
   "language": "python",
   "name": "python3"
  },
  "language_info": {
   "codemirror_mode": {
    "name": "ipython",
    "version": 3
   },
   "file_extension": ".py",
   "mimetype": "text/x-python",
   "name": "python",
   "nbconvert_exporter": "python",
   "pygments_lexer": "ipython3",
   "version": "3.8.5"
  }
 },
 "nbformat": 4,
 "nbformat_minor": 5
}
